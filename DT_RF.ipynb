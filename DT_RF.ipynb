{
  "cells": [
    {
      "cell_type": "code",
      "source": [
        "# from google.colab import files\n",
        "# uploaded = files.upload()\n",
        "\n",
        "import io\n",
        "data = io.BytesIO(uploaded['credit_card_approval_data.csv'])  \n",
        "\n",
        "import pandas as pd   \n",
        "df = pd.read_csv(data)\n",
        "\n",
        "df.head()"
      ],
      "metadata": {
        "id": "q8DY-w0NlXh6",
        "outputId": "36da757c-b603-4a09-aeb3-2146b08e624e",
        "colab": {
          "base_uri": "https://localhost:8080/",
          "height": 288
        }
      },
      "execution_count": 127,
      "outputs": [
        {
          "output_type": "execute_result",
          "data": {
            "text/plain": [
              "  Gender Marital_Status     Education     Employment ApplicantIncome_Label  \\\n",
              "0   Male    Not_Married      Graduate       Salaried           High_Income   \n",
              "1   Male        Married      Graduate       Salaried            Low_Income   \n",
              "2   Male        Married      Graduate  Self_Employed           High_Income   \n",
              "3   Male        Married  Not Graduate       Salaried           High_Income   \n",
              "4   Male    Not_Married      Graduate       Salaried           High_Income   \n",
              "\n",
              "  LoanAmount_Label Credit_History Property_Area Decision  \n",
              "0              Few        Present         Urban     Deny  \n",
              "1             More        Present         Rural  Approve  \n",
              "2              Few        Present         Urban     Deny  \n",
              "3              Few        Present         Urban     Deny  \n",
              "4             More        Present         Urban     Deny  "
            ],
            "text/html": [
              "\n",
              "  <div id=\"df-ef43e014-c956-47c8-bdaa-4c958f7fbb85\">\n",
              "    <div class=\"colab-df-container\">\n",
              "      <div>\n",
              "<style scoped>\n",
              "    .dataframe tbody tr th:only-of-type {\n",
              "        vertical-align: middle;\n",
              "    }\n",
              "\n",
              "    .dataframe tbody tr th {\n",
              "        vertical-align: top;\n",
              "    }\n",
              "\n",
              "    .dataframe thead th {\n",
              "        text-align: right;\n",
              "    }\n",
              "</style>\n",
              "<table border=\"1\" class=\"dataframe\">\n",
              "  <thead>\n",
              "    <tr style=\"text-align: right;\">\n",
              "      <th></th>\n",
              "      <th>Gender</th>\n",
              "      <th>Marital_Status</th>\n",
              "      <th>Education</th>\n",
              "      <th>Employment</th>\n",
              "      <th>ApplicantIncome_Label</th>\n",
              "      <th>LoanAmount_Label</th>\n",
              "      <th>Credit_History</th>\n",
              "      <th>Property_Area</th>\n",
              "      <th>Decision</th>\n",
              "    </tr>\n",
              "  </thead>\n",
              "  <tbody>\n",
              "    <tr>\n",
              "      <th>0</th>\n",
              "      <td>Male</td>\n",
              "      <td>Not_Married</td>\n",
              "      <td>Graduate</td>\n",
              "      <td>Salaried</td>\n",
              "      <td>High_Income</td>\n",
              "      <td>Few</td>\n",
              "      <td>Present</td>\n",
              "      <td>Urban</td>\n",
              "      <td>Deny</td>\n",
              "    </tr>\n",
              "    <tr>\n",
              "      <th>1</th>\n",
              "      <td>Male</td>\n",
              "      <td>Married</td>\n",
              "      <td>Graduate</td>\n",
              "      <td>Salaried</td>\n",
              "      <td>Low_Income</td>\n",
              "      <td>More</td>\n",
              "      <td>Present</td>\n",
              "      <td>Rural</td>\n",
              "      <td>Approve</td>\n",
              "    </tr>\n",
              "    <tr>\n",
              "      <th>2</th>\n",
              "      <td>Male</td>\n",
              "      <td>Married</td>\n",
              "      <td>Graduate</td>\n",
              "      <td>Self_Employed</td>\n",
              "      <td>High_Income</td>\n",
              "      <td>Few</td>\n",
              "      <td>Present</td>\n",
              "      <td>Urban</td>\n",
              "      <td>Deny</td>\n",
              "    </tr>\n",
              "    <tr>\n",
              "      <th>3</th>\n",
              "      <td>Male</td>\n",
              "      <td>Married</td>\n",
              "      <td>Not Graduate</td>\n",
              "      <td>Salaried</td>\n",
              "      <td>High_Income</td>\n",
              "      <td>Few</td>\n",
              "      <td>Present</td>\n",
              "      <td>Urban</td>\n",
              "      <td>Deny</td>\n",
              "    </tr>\n",
              "    <tr>\n",
              "      <th>4</th>\n",
              "      <td>Male</td>\n",
              "      <td>Not_Married</td>\n",
              "      <td>Graduate</td>\n",
              "      <td>Salaried</td>\n",
              "      <td>High_Income</td>\n",
              "      <td>More</td>\n",
              "      <td>Present</td>\n",
              "      <td>Urban</td>\n",
              "      <td>Deny</td>\n",
              "    </tr>\n",
              "  </tbody>\n",
              "</table>\n",
              "</div>\n",
              "      <button class=\"colab-df-convert\" onclick=\"convertToInteractive('df-ef43e014-c956-47c8-bdaa-4c958f7fbb85')\"\n",
              "              title=\"Convert this dataframe to an interactive table.\"\n",
              "              style=\"display:none;\">\n",
              "        \n",
              "  <svg xmlns=\"http://www.w3.org/2000/svg\" height=\"24px\"viewBox=\"0 0 24 24\"\n",
              "       width=\"24px\">\n",
              "    <path d=\"M0 0h24v24H0V0z\" fill=\"none\"/>\n",
              "    <path d=\"M18.56 5.44l.94 2.06.94-2.06 2.06-.94-2.06-.94-.94-2.06-.94 2.06-2.06.94zm-11 1L8.5 8.5l.94-2.06 2.06-.94-2.06-.94L8.5 2.5l-.94 2.06-2.06.94zm10 10l.94 2.06.94-2.06 2.06-.94-2.06-.94-.94-2.06-.94 2.06-2.06.94z\"/><path d=\"M17.41 7.96l-1.37-1.37c-.4-.4-.92-.59-1.43-.59-.52 0-1.04.2-1.43.59L10.3 9.45l-7.72 7.72c-.78.78-.78 2.05 0 2.83L4 21.41c.39.39.9.59 1.41.59.51 0 1.02-.2 1.41-.59l7.78-7.78 2.81-2.81c.8-.78.8-2.07 0-2.86zM5.41 20L4 18.59l7.72-7.72 1.47 1.35L5.41 20z\"/>\n",
              "  </svg>\n",
              "      </button>\n",
              "      \n",
              "  <style>\n",
              "    .colab-df-container {\n",
              "      display:flex;\n",
              "      flex-wrap:wrap;\n",
              "      gap: 12px;\n",
              "    }\n",
              "\n",
              "    .colab-df-convert {\n",
              "      background-color: #E8F0FE;\n",
              "      border: none;\n",
              "      border-radius: 50%;\n",
              "      cursor: pointer;\n",
              "      display: none;\n",
              "      fill: #1967D2;\n",
              "      height: 32px;\n",
              "      padding: 0 0 0 0;\n",
              "      width: 32px;\n",
              "    }\n",
              "\n",
              "    .colab-df-convert:hover {\n",
              "      background-color: #E2EBFA;\n",
              "      box-shadow: 0px 1px 2px rgba(60, 64, 67, 0.3), 0px 1px 3px 1px rgba(60, 64, 67, 0.15);\n",
              "      fill: #174EA6;\n",
              "    }\n",
              "\n",
              "    [theme=dark] .colab-df-convert {\n",
              "      background-color: #3B4455;\n",
              "      fill: #D2E3FC;\n",
              "    }\n",
              "\n",
              "    [theme=dark] .colab-df-convert:hover {\n",
              "      background-color: #434B5C;\n",
              "      box-shadow: 0px 1px 3px 1px rgba(0, 0, 0, 0.15);\n",
              "      filter: drop-shadow(0px 1px 2px rgba(0, 0, 0, 0.3));\n",
              "      fill: #FFFFFF;\n",
              "    }\n",
              "  </style>\n",
              "\n",
              "      <script>\n",
              "        const buttonEl =\n",
              "          document.querySelector('#df-ef43e014-c956-47c8-bdaa-4c958f7fbb85 button.colab-df-convert');\n",
              "        buttonEl.style.display =\n",
              "          google.colab.kernel.accessAllowed ? 'block' : 'none';\n",
              "\n",
              "        async function convertToInteractive(key) {\n",
              "          const element = document.querySelector('#df-ef43e014-c956-47c8-bdaa-4c958f7fbb85');\n",
              "          const dataTable =\n",
              "            await google.colab.kernel.invokeFunction('convertToInteractive',\n",
              "                                                     [key], {});\n",
              "          if (!dataTable) return;\n",
              "\n",
              "          const docLinkHtml = 'Like what you see? Visit the ' +\n",
              "            '<a target=\"_blank\" href=https://colab.research.google.com/notebooks/data_table.ipynb>data table notebook</a>'\n",
              "            + ' to learn more about interactive tables.';\n",
              "          element.innerHTML = '';\n",
              "          dataTable['output_type'] = 'display_data';\n",
              "          await google.colab.output.renderOutput(dataTable, element);\n",
              "          const docLink = document.createElement('div');\n",
              "          docLink.innerHTML = docLinkHtml;\n",
              "          element.appendChild(docLink);\n",
              "        }\n",
              "      </script>\n",
              "    </div>\n",
              "  </div>\n",
              "  "
            ]
          },
          "metadata": {},
          "execution_count": 127
        }
      ]
    },
    {
      "cell_type": "code",
      "source": [
        "df['Property_Area'].value_counts()"
      ],
      "metadata": {
        "id": "KnSNGnUCwQFK",
        "outputId": "e7a092de-329e-45df-cc2d-9a8e2cec9ebf",
        "colab": {
          "base_uri": "https://localhost:8080/"
        }
      },
      "execution_count": 118,
      "outputs": [
        {
          "output_type": "execute_result",
          "data": {
            "text/plain": [
              "Semiurban    233\n",
              "Urban        202\n",
              "Rural        179\n",
              "Name: Property_Area, dtype: int64"
            ]
          },
          "metadata": {},
          "execution_count": 118
        }
      ]
    },
    {
      "cell_type": "code",
      "source": [
        "dummy_coded_data = pd.concat([df['Decision'],                   \n",
        "                     pd.get_dummies(df.Gender,drop_first=True),\n",
        "                     pd.get_dummies(df.Marital_Status,drop_first=True),\n",
        "                    pd.get_dummies(df.Education,drop_first=True),\n",
        "                    pd.get_dummies(df.Employment,drop_first=True),\n",
        "                    pd.get_dummies(df.ApplicantIncome_Label,drop_first=True),\n",
        "                    pd.get_dummies(df.LoanAmount_Label,drop_first=True),\n",
        "                    pd.get_dummies(df.Credit_History,drop_first=True),\n",
        "                    pd.get_dummies(df.Property_Area,drop_first=True)], axis=1)\n",
        "dummy_coded_data.head()"
      ],
      "metadata": {
        "id": "E7sErfDrheL7",
        "outputId": "222ea0f8-5169-47bc-ec7b-fa0bd939beff",
        "colab": {
          "base_uri": "https://localhost:8080/",
          "height": 206
        }
      },
      "execution_count": 128,
      "outputs": [
        {
          "output_type": "execute_result",
          "data": {
            "text/plain": [
              "  Decision  Male  Not_Married  Not Graduate  Self_Employed  Low_Income  More  \\\n",
              "0     Deny     1            1             0              0           0     0   \n",
              "1  Approve     1            0             0              0           1     1   \n",
              "2     Deny     1            0             0              1           0     0   \n",
              "3     Deny     1            0             1              0           0     0   \n",
              "4     Deny     1            1             0              0           0     1   \n",
              "\n",
              "   Present  Semiurban  Urban  \n",
              "0        1          0      1  \n",
              "1        1          0      0  \n",
              "2        1          0      1  \n",
              "3        1          0      1  \n",
              "4        1          0      1  "
            ],
            "text/html": [
              "\n",
              "  <div id=\"df-f222799e-7b8e-4531-bc3c-98fcf7b3d8d1\">\n",
              "    <div class=\"colab-df-container\">\n",
              "      <div>\n",
              "<style scoped>\n",
              "    .dataframe tbody tr th:only-of-type {\n",
              "        vertical-align: middle;\n",
              "    }\n",
              "\n",
              "    .dataframe tbody tr th {\n",
              "        vertical-align: top;\n",
              "    }\n",
              "\n",
              "    .dataframe thead th {\n",
              "        text-align: right;\n",
              "    }\n",
              "</style>\n",
              "<table border=\"1\" class=\"dataframe\">\n",
              "  <thead>\n",
              "    <tr style=\"text-align: right;\">\n",
              "      <th></th>\n",
              "      <th>Decision</th>\n",
              "      <th>Male</th>\n",
              "      <th>Not_Married</th>\n",
              "      <th>Not Graduate</th>\n",
              "      <th>Self_Employed</th>\n",
              "      <th>Low_Income</th>\n",
              "      <th>More</th>\n",
              "      <th>Present</th>\n",
              "      <th>Semiurban</th>\n",
              "      <th>Urban</th>\n",
              "    </tr>\n",
              "  </thead>\n",
              "  <tbody>\n",
              "    <tr>\n",
              "      <th>0</th>\n",
              "      <td>Deny</td>\n",
              "      <td>1</td>\n",
              "      <td>1</td>\n",
              "      <td>0</td>\n",
              "      <td>0</td>\n",
              "      <td>0</td>\n",
              "      <td>0</td>\n",
              "      <td>1</td>\n",
              "      <td>0</td>\n",
              "      <td>1</td>\n",
              "    </tr>\n",
              "    <tr>\n",
              "      <th>1</th>\n",
              "      <td>Approve</td>\n",
              "      <td>1</td>\n",
              "      <td>0</td>\n",
              "      <td>0</td>\n",
              "      <td>0</td>\n",
              "      <td>1</td>\n",
              "      <td>1</td>\n",
              "      <td>1</td>\n",
              "      <td>0</td>\n",
              "      <td>0</td>\n",
              "    </tr>\n",
              "    <tr>\n",
              "      <th>2</th>\n",
              "      <td>Deny</td>\n",
              "      <td>1</td>\n",
              "      <td>0</td>\n",
              "      <td>0</td>\n",
              "      <td>1</td>\n",
              "      <td>0</td>\n",
              "      <td>0</td>\n",
              "      <td>1</td>\n",
              "      <td>0</td>\n",
              "      <td>1</td>\n",
              "    </tr>\n",
              "    <tr>\n",
              "      <th>3</th>\n",
              "      <td>Deny</td>\n",
              "      <td>1</td>\n",
              "      <td>0</td>\n",
              "      <td>1</td>\n",
              "      <td>0</td>\n",
              "      <td>0</td>\n",
              "      <td>0</td>\n",
              "      <td>1</td>\n",
              "      <td>0</td>\n",
              "      <td>1</td>\n",
              "    </tr>\n",
              "    <tr>\n",
              "      <th>4</th>\n",
              "      <td>Deny</td>\n",
              "      <td>1</td>\n",
              "      <td>1</td>\n",
              "      <td>0</td>\n",
              "      <td>0</td>\n",
              "      <td>0</td>\n",
              "      <td>1</td>\n",
              "      <td>1</td>\n",
              "      <td>0</td>\n",
              "      <td>1</td>\n",
              "    </tr>\n",
              "  </tbody>\n",
              "</table>\n",
              "</div>\n",
              "      <button class=\"colab-df-convert\" onclick=\"convertToInteractive('df-f222799e-7b8e-4531-bc3c-98fcf7b3d8d1')\"\n",
              "              title=\"Convert this dataframe to an interactive table.\"\n",
              "              style=\"display:none;\">\n",
              "        \n",
              "  <svg xmlns=\"http://www.w3.org/2000/svg\" height=\"24px\"viewBox=\"0 0 24 24\"\n",
              "       width=\"24px\">\n",
              "    <path d=\"M0 0h24v24H0V0z\" fill=\"none\"/>\n",
              "    <path d=\"M18.56 5.44l.94 2.06.94-2.06 2.06-.94-2.06-.94-.94-2.06-.94 2.06-2.06.94zm-11 1L8.5 8.5l.94-2.06 2.06-.94-2.06-.94L8.5 2.5l-.94 2.06-2.06.94zm10 10l.94 2.06.94-2.06 2.06-.94-2.06-.94-.94-2.06-.94 2.06-2.06.94z\"/><path d=\"M17.41 7.96l-1.37-1.37c-.4-.4-.92-.59-1.43-.59-.52 0-1.04.2-1.43.59L10.3 9.45l-7.72 7.72c-.78.78-.78 2.05 0 2.83L4 21.41c.39.39.9.59 1.41.59.51 0 1.02-.2 1.41-.59l7.78-7.78 2.81-2.81c.8-.78.8-2.07 0-2.86zM5.41 20L4 18.59l7.72-7.72 1.47 1.35L5.41 20z\"/>\n",
              "  </svg>\n",
              "      </button>\n",
              "      \n",
              "  <style>\n",
              "    .colab-df-container {\n",
              "      display:flex;\n",
              "      flex-wrap:wrap;\n",
              "      gap: 12px;\n",
              "    }\n",
              "\n",
              "    .colab-df-convert {\n",
              "      background-color: #E8F0FE;\n",
              "      border: none;\n",
              "      border-radius: 50%;\n",
              "      cursor: pointer;\n",
              "      display: none;\n",
              "      fill: #1967D2;\n",
              "      height: 32px;\n",
              "      padding: 0 0 0 0;\n",
              "      width: 32px;\n",
              "    }\n",
              "\n",
              "    .colab-df-convert:hover {\n",
              "      background-color: #E2EBFA;\n",
              "      box-shadow: 0px 1px 2px rgba(60, 64, 67, 0.3), 0px 1px 3px 1px rgba(60, 64, 67, 0.15);\n",
              "      fill: #174EA6;\n",
              "    }\n",
              "\n",
              "    [theme=dark] .colab-df-convert {\n",
              "      background-color: #3B4455;\n",
              "      fill: #D2E3FC;\n",
              "    }\n",
              "\n",
              "    [theme=dark] .colab-df-convert:hover {\n",
              "      background-color: #434B5C;\n",
              "      box-shadow: 0px 1px 3px 1px rgba(0, 0, 0, 0.15);\n",
              "      filter: drop-shadow(0px 1px 2px rgba(0, 0, 0, 0.3));\n",
              "      fill: #FFFFFF;\n",
              "    }\n",
              "  </style>\n",
              "\n",
              "      <script>\n",
              "        const buttonEl =\n",
              "          document.querySelector('#df-f222799e-7b8e-4531-bc3c-98fcf7b3d8d1 button.colab-df-convert');\n",
              "        buttonEl.style.display =\n",
              "          google.colab.kernel.accessAllowed ? 'block' : 'none';\n",
              "\n",
              "        async function convertToInteractive(key) {\n",
              "          const element = document.querySelector('#df-f222799e-7b8e-4531-bc3c-98fcf7b3d8d1');\n",
              "          const dataTable =\n",
              "            await google.colab.kernel.invokeFunction('convertToInteractive',\n",
              "                                                     [key], {});\n",
              "          if (!dataTable) return;\n",
              "\n",
              "          const docLinkHtml = 'Like what you see? Visit the ' +\n",
              "            '<a target=\"_blank\" href=https://colab.research.google.com/notebooks/data_table.ipynb>data table notebook</a>'\n",
              "            + ' to learn more about interactive tables.';\n",
              "          element.innerHTML = '';\n",
              "          dataTable['output_type'] = 'display_data';\n",
              "          await google.colab.output.renderOutput(dataTable, element);\n",
              "          const docLink = document.createElement('div');\n",
              "          docLink.innerHTML = docLinkHtml;\n",
              "          element.appendChild(docLink);\n",
              "        }\n",
              "      </script>\n",
              "    </div>\n",
              "  </div>\n",
              "  "
            ]
          },
          "metadata": {},
          "execution_count": 128
        }
      ]
    },
    {
      "cell_type": "code",
      "source": [
        "from sklearn import tree"
      ],
      "metadata": {
        "id": "dBsKhl0TlpIk"
      },
      "execution_count": 95,
      "outputs": []
    },
    {
      "cell_type": "code",
      "source": [
        "X = dummy_coded_data.drop(['Decision'], axis=1)\n",
        "y = dummy_coded_data['Decision']\n",
        "\n",
        "from sklearn.model_selection import train_test_split\n",
        "X_train, X_test, y_train, y_test = train_test_split(X, y, test_size = 0.2, random_state = 0)"
      ],
      "metadata": {
        "id": "XJfQyhJ_p-Z3"
      },
      "execution_count": 129,
      "outputs": []
    },
    {
      "cell_type": "code",
      "source": [
        "model = tree.DecisionTreeClassifier(criterion=\"entropy\", max_depth=3)\n",
        "# model = tree.DecisionTreeClassifier()\n",
        "model = model.fit(X_train, y_train)\n",
        "# tree.plot_tree(model)"
      ],
      "metadata": {
        "id": "dEN4BUKqnVeg"
      },
      "execution_count": 130,
      "outputs": []
    },
    {
      "cell_type": "code",
      "source": [
        "import matplotlib.pyplot as plt\n",
        "fn=['Male','Not_Married','Not Graduate','Self_Employed','Low_Income','More','Present','Semiurban','Urban']      \n",
        "cn=['Approve', 'Deny']\n",
        "fig, axes = plt.subplots(nrows = 1,ncols = 1,figsize = (10,10), dpi=100)\n",
        "tree.plot_tree(model,\n",
        "               feature_names = fn, \n",
        "               class_names=cn,\n",
        "               fontsize=6,\n",
        "              #  max_depth = 2,\n",
        "               filled = True);"
      ],
      "metadata": {
        "id": "BHxFAFHXp0yT",
        "outputId": "3e9ea301-b482-42fc-e150-0c6a0d6e0cfd",
        "colab": {
          "base_uri": "https://localhost:8080/",
          "height": 792
        }
      },
      "execution_count": 131,
      "outputs": [
        {
          "output_type": "display_data",
          "data": {
            "text/plain": [
              "<Figure size 1000x1000 with 1 Axes>"
            ],
            "image/png": "[encoded data removed]"
          },
          "metadata": {
            "needs_background": "light"
          }
        }
      ]
    },
    {
      "cell_type": "markdown",
      "source": [
        "Rule-1 - If Income is low and your credit history is present and not staying in a semi urban palce then card \n",
        "is denied.</br>\n",
        "Rule-2 - If Income is low and your credit history is not present then the application is denied </br>\n",
        "Rule-3 - If income is High and your credit history is present and your edcation qualification is either \n",
        "a graduate or not the application can be approved </br>\n",
        "Rule-4 - If income is High and your credit history is not presentand not staying in a semi urban palce \n",
        "then card is denied"
      ],
      "metadata": {
        "id": "dUUoQh7jBwt4"
      }
    },
    {
      "cell_type": "code",
      "source": [
        "from sklearn.ensemble import RandomForestClassifier\n",
        "\n",
        "X = dummy_coded_data.drop(['Decision'], axis=1)\n",
        "y = dummy_coded_data['Decision']\n",
        "\n",
        "from sklearn.model_selection import train_test_split\n",
        "X_train, X_test, y_train, y_test = train_test_split(X, y, test_size = 0.2, random_state = 0)\n",
        "\n",
        "# creating a RF classifier\n",
        "clf = RandomForestClassifier(random_state = 42) \n",
        "clf.fit(X_train, y_train)"
      ],
      "metadata": {
        "id": "b5YiHuXflbyp",
        "outputId": "4acd9ccd-de53-47e2-9c49-5d50c14cd21c",
        "colab": {
          "base_uri": "https://localhost:8080/"
        }
      },
      "execution_count": 132,
      "outputs": [
        {
          "output_type": "execute_result",
          "data": {
            "text/plain": [
              "RandomForestClassifier(random_state=42)"
            ]
          },
          "metadata": {},
          "execution_count": 132
        }
      ]
    },
    {
      "cell_type": "code",
      "source": [
        "from sklearn.metrics import accuracy_score\n",
        "\n",
        "# Test Accuracy\n",
        "rf_pred = clf.predict(X_test)\n",
        "score = accuracy_score(y_test, rf_pred)\n",
        "score "
      ],
      "metadata": {
        "id": "EG5jtid2oRaX",
        "outputId": "d43a5b44-b571-46a3-c437-e6fd9227e018",
        "colab": {
          "base_uri": "https://localhost:8080/"
        }
      },
      "execution_count": 133,
      "outputs": [
        {
          "output_type": "execute_result",
          "data": {
            "text/plain": [
              "0.8861788617886179"
            ]
          },
          "metadata": {},
          "execution_count": 133
        }
      ]
    },
    {
      "cell_type": "code",
      "source": [
        "from sklearn.metrics import confusion_matrix\n",
        "\n",
        "cm = confusion_matrix(y_test, rf_pred)\n",
        "print('Confusion matrix\\n\\n', cm)"
      ],
      "metadata": {
        "id": "4VOh17Q1o3cw",
        "outputId": "c6d5797d-70ce-4349-ced7-7b442193bf5d",
        "colab": {
          "base_uri": "https://localhost:8080/"
        }
      },
      "execution_count": 134,
      "outputs": [
        {
          "output_type": "stream",
          "name": "stdout",
          "text": [
            "Confusion matrix\n",
            "\n",
            " [[21  8]\n",
            " [ 6 88]]\n"
          ]
        }
      ]
    },
    {
      "cell_type": "code",
      "source": [
        "import seaborn as sns\n",
        "cm_matrix = pd.DataFrame(data=cm, columns=['Actual_Approve', 'Actual_Deny'], \n",
        "                                 index=['Predict_Approve', 'Predict_Deny'])\n",
        "sns.heatmap(cm_matrix, annot=True, fmt='d', cmap='YlGnBu')"
      ],
      "metadata": {
        "id": "XkqSGhblpE12",
        "outputId": "f66d8e34-a661-4c6a-b040-964621bb3280",
        "colab": {
          "base_uri": "https://localhost:8080/",
          "height": 283
        }
      },
      "execution_count": 135,
      "outputs": [
        {
          "output_type": "execute_result",
          "data": {
            "text/plain": [
              "<matplotlib.axes._subplots.AxesSubplot at 0x7f4a40c19520>"
            ]
          },
          "metadata": {},
          "execution_count": 135
        },
        {
          "output_type": "display_data",
          "data": {
            "text/plain": [
              "<Figure size 432x288 with 2 Axes>"
            ],
            "image/png": "[encoded data removed]"
          },
          "metadata": {
            "needs_background": "light"
          }
        }
      ]
    },
    {
      "cell_type": "code",
      "source": [
        "# Train Data Accuracy\n",
        "rf_pred_train = clf.predict(X_train)\n",
        "score = accuracy_score(y_train, rf_pred_train)\n",
        "score"
      ],
      "metadata": {
        "id": "dMBHsea-pVuf",
        "outputId": "70deea3f-3f92-4b49-fd95-d25005c997da",
        "colab": {
          "base_uri": "https://localhost:8080/"
        }
      },
      "execution_count": 136,
      "outputs": [
        {
          "output_type": "execute_result",
          "data": {
            "text/plain": [
              "0.8940936863543788"
            ]
          },
          "metadata": {},
          "execution_count": 136
        }
      ]
    },
    {
      "cell_type": "code",
      "source": [
        "cm = confusion_matrix(y_train, rf_pred_train)\n",
        "cm_matrix = pd.DataFrame(data=cm, columns=['Actual_Approve', 'Actual_Deny'], \n",
        "                                 index=['Predict_Approve', 'Predict_Deny'])\n",
        "sns.heatmap(cm_matrix, annot=True, fmt='d', cmap='YlGnBu')"
      ],
      "metadata": {
        "id": "tH-XWRDWpky0",
        "outputId": "ce1b6b0f-c34f-4abb-ae80-14491e25b1df",
        "colab": {
          "base_uri": "https://localhost:8080/",
          "height": 283
        }
      },
      "execution_count": 137,
      "outputs": [
        {
          "output_type": "execute_result",
          "data": {
            "text/plain": [
              "<matplotlib.axes._subplots.AxesSubplot at 0x7f4a42069d60>"
            ]
          },
          "metadata": {},
          "execution_count": 137
        },
        {
          "output_type": "display_data",
          "data": {
            "text/plain": [
              "<Figure size 432x288 with 2 Axes>"
            ],
            "image/png": "[encoded data removed]"
          },
          "metadata": {
            "needs_background": "light"
          }
        }
      ]
    },
    {
      "cell_type": "code",
      "source": [],
      "metadata": {
        "id": "UxaFmNIYyoPI"
      },
      "execution_count": 124,
      "outputs": []
    }
  ],
  "metadata": {
    "colab": {
      "name": "Welcome To Colaboratory",
      "toc_visible": true,
      "provenance": []
    },
    "kernelspec": {
      "display_name": "Python 3",
      "name": "python3"
    }
  },
  "nbformat": 4,
  "nbformat_minor": 0
}